{
 "cells": [
  {
   "cell_type": "code",
   "execution_count": 71,
   "id": "7915620a",
   "metadata": {},
   "outputs": [],
   "source": [
    "import pandas as pd\n",
    "import numpy as np"
   ]
  },
  {
   "cell_type": "code",
   "execution_count": 72,
   "id": "3dbc0fa0",
   "metadata": {},
   "outputs": [
    {
     "name": "stdout",
     "output_type": "stream",
     "text": [
      "    IDLink                                              Title  \\\n",
      "0  99248.0   Obama Lays Wreath at Arlington National Cemetery   \n",
      "1  10423.0        A Look at the Health of the Chinese Economy   \n",
      "2  18828.0   Nouriel Roubini: Global Economy Not Back to 2008   \n",
      "3  27788.0                          Finland GDP Expands In Q4   \n",
      "4  27789.0  Tourism, govt spending buoys Thai economy in J...   \n",
      "\n",
      "                                            Headline  \\\n",
      "0  Obama Lays Wreath at Arlington National Cemete...   \n",
      "1  Tim Haywood, investment director business-unit...   \n",
      "2  Nouriel Roubini, NYU professor and chairman at...   \n",
      "3  Finland's economy expanded marginally in the t...   \n",
      "4  Tourism and public spending continued to boost...   \n",
      "\n",
      "                                     Source    Topic          PublishDate  \\\n",
      "0                                 USA TODAY    obama  2002-04-02 00:00:00   \n",
      "1                                 Bloomberg  economy  2008-09-20 00:00:00   \n",
      "2                                 Bloomberg  economy  2012-01-28 00:00:00   \n",
      "3                                  RTT News  economy  2015-03-01 00:06:00   \n",
      "4  The Nation - Thailand&#39;s English news  economy  2015-03-01 00:11:00   \n",
      "\n",
      "   SentimentTitle  SentimentHeadline  Facebook  GooglePlus  LinkedIn  \n",
      "0        0.000000          -0.053300        -1          -1        -1  \n",
      "1        0.208333          -0.156386        -1          -1        -1  \n",
      "2       -0.425210           0.139754        -1          -1        -1  \n",
      "3        0.000000           0.026064        -1          -1        -1  \n",
      "4        0.000000           0.141084        -1          -1        -1  \n"
     ]
    }
   ],
   "source": [
    "# Load the CSV data into a DataFrame\n",
    "df = pd.read_csv(\"/Users/apple/Desktop/news+popularity+in+multiple+social+media+platforms/Data/News_Final.csv\", header=0)\n",
    "\n",
    "# Display the first few rows of the DataFrame to verify it's loaded correctly\n",
    "print(df.head())"
   ]
  },
  {
   "cell_type": "code",
   "execution_count": 73,
   "id": "7df53c48",
   "metadata": {},
   "outputs": [
    {
     "name": "stdout",
     "output_type": "stream",
     "text": [
      "Headline     15\n",
      "Source      279\n",
      "dtype: int64\n"
     ]
    },
    {
     "data": {
      "text/plain": [
       "(92945, 11)"
      ]
     },
     "execution_count": 73,
     "metadata": {},
     "output_type": "execute_result"
    }
   ],
   "source": [
    "#Handel missing data\n",
    "# Check for missing values in each column\n",
    "missing_data = df.isnull().sum()\n",
    "\n",
    "# Print the number of missing values in each column\n",
    "print(missing_data[missing_data > 0])\n",
    "\n",
    "#clean data\n",
    "df = df.dropna()\n",
    "df.shape"
   ]
  },
  {
   "cell_type": "code",
   "execution_count": 74,
   "id": "56057f65",
   "metadata": {},
   "outputs": [],
   "source": [
    "from langdetect import detect"
   ]
  },
  {
   "cell_type": "code",
   "execution_count": 75,
   "id": "850c939a",
   "metadata": {},
   "outputs": [
    {
     "data": {
      "text/plain": [
       "(86553, 11)"
      ]
     },
     "execution_count": 75,
     "metadata": {},
     "output_type": "execute_result"
    }
   ],
   "source": [
    "# Removing duplicates from the \"Headline\" column.\n",
    "df = df.drop_duplicates(subset=['Headline'])\n",
    "df.shape\n"
   ]
  },
  {
   "cell_type": "code",
   "execution_count": 76,
   "id": "e3ff65e9",
   "metadata": {},
   "outputs": [
    {
     "name": "stdout",
     "output_type": "stream",
     "text": [
      "(86553, 11)\n"
     ]
    }
   ],
   "source": [
    "# Removing purely numeric values from the \"Headline\" column.\n",
    "df = df[~df['Headline'].str.isnumeric()]\n",
    "\n",
    "# Pattern to match the specific numeric formats in headlines\n",
    "pattern = r'\\d+\\.[A-Z]{2,3}&gt;|\\b\\d+\\.\\d+\\b|\\d+am|\\d+pm|\\d+s|\\d{2,}'\n",
    "\n",
    "\n",
    "# Using str.replace to remove the matched patterns with an empty string, but only modify the 'Headline' column\n",
    "df['Headline'] = df['Headline'].str.replace(pattern, '', regex=True)\n",
    "\n",
    "# Save the filtered DataFrame to a CSV file\n",
    "df.to_csv('no_numeric_headlines.csv', index=False)\n",
    "\n",
    "# Display the shape of the DataFrame to confirm no columns were removed\n",
    "print(df.shape)\n"
   ]
  },
  {
   "cell_type": "code",
   "execution_count": 77,
   "id": "2d7ca681",
   "metadata": {},
   "outputs": [
    {
     "name": "stdout",
     "output_type": "stream",
     "text": [
      "                                                Headline  \\\n",
      "0      Obama Lays Wreath at Arlington National Cemete...   \n",
      "1      Tim Haywood, investment director business-unit...   \n",
      "2      Nouriel Roubini, NYU professor and chairman at...   \n",
      "3      Finland's economy expanded marginally in the t...   \n",
      "4      Tourism and public spending continued to boost...   \n",
      "...                                                  ...   \n",
      "93234  The June employment report is viewed as a cruc...   \n",
      "93235  In addition, establish stimulating economic po...   \n",
      "93236  The Palestinian government spends nearly $ mil...   \n",
      "93237  Palestine Youth Orchestra prepares for first U...   \n",
      "93238  Goldstein, the proprietor of the TG Travel Gro...   \n",
      "\n",
      "                                          Clean_Headline  \n",
      "0      Obama Lays Wreath at Arlington National Cemete...  \n",
      "1      Tim Haywood, investment director business-unit...  \n",
      "2      Nouriel Roubini, NYU professor and chairman at...  \n",
      "3      Finland's economy expanded marginally in the t...  \n",
      "4      Tourism and public spending continued to boost...  \n",
      "...                                                  ...  \n",
      "93234  The June employment report is viewed as a cruc...  \n",
      "93235  In addition, establish stimulating economic po...  \n",
      "93236  The Palestinian government spends nearly $ mil...  \n",
      "93237  Palestine Youth Orchestra prepares for first U...  \n",
      "93238  Goldstein, the proprietor of the TG Travel Gro...  \n",
      "\n",
      "[86553 rows x 2 columns]\n"
     ]
    }
   ],
   "source": [
    "import unicodedata\n",
    "import pandas as pd\n",
    "\n",
    "\n",
    "# Function to remove accents\n",
    "def remove_accents(input_str):\n",
    "    nfkd_form = unicodedata.normalize('NFKD', input_str)\n",
    "    return \"\".join([c for c in nfkd_form if not unicodedata.combining(c)])\n",
    "\n",
    "# Apply the function to the 'Headline' column\n",
    "df['Clean_Headline'] = df['Headline'].apply(remove_accents)\n",
    "\n",
    "# Display the original and cleaned headlines\n",
    "print(df[['Headline', 'Clean_Headline']])\n"
   ]
  },
  {
   "cell_type": "code",
   "execution_count": 78,
   "id": "cd9cc10d",
   "metadata": {},
   "outputs": [
    {
     "name": "stdout",
     "output_type": "stream",
     "text": [
      "Requirement already satisfied: pyspellchecker in /Users/apple/anaconda3/lib/python3.11/site-packages (0.8.1)\n",
      "Note: you may need to restart the kernel to use updated packages.\n"
     ]
    }
   ],
   "source": [
    "pip install pyspellchecker\n"
   ]
  },
  {
   "cell_type": "code",
   "execution_count": 79,
   "id": "73011f6c",
   "metadata": {},
   "outputs": [
    {
     "name": "stdout",
     "output_type": "stream",
     "text": [
      "                                          Clean_Headline  \\\n",
      "0      Obama Lays Wreath at Arlington National Cemete...   \n",
      "1      Tim Haywood, investment director business-unit...   \n",
      "2      Nouriel Roubini, NYU professor and chairman at...   \n",
      "3      Finland's economy expanded marginally in the t...   \n",
      "4      Tourism and public spending continued to boost...   \n",
      "...                                                  ...   \n",
      "93234  The June employment report is viewed as a cruc...   \n",
      "93235  In addition, establish stimulating economic po...   \n",
      "93236  The Palestinian government spends nearly $ mil...   \n",
      "93237  Palestine Youth Orchestra prepares for first U...   \n",
      "93238  Goldstein, the proprietor of the TG Travel Gro...   \n",
      "\n",
      "                                        Cleaned_Headline  \n",
      "0      Lays Wreath at National President has laid a w...  \n",
      "1      investment director head for fixed income at d...  \n",
      "2      professor and chairman at Global explains why ...  \n",
      "3      economy expanded marginally in the three month...  \n",
      "4      Tourism and public spending continued to boost...  \n",
      "...                                                  ...  \n",
      "93234  The employment report is viewed as a crucial g...  \n",
      "93235  In establish stimulating economic We have to d...  \n",
      "93236  The government spends nearly $ million annuall...  \n",
      "93237  Palestine Youth Orchestra prepares for first t...  \n",
      "93238  the proprietor of the Travel Group custom tour...  \n",
      "\n",
      "[86553 rows x 2 columns]\n"
     ]
    }
   ],
   "source": [
    "from spellchecker import SpellChecker\n",
    "import pandas as pd\n",
    "\n",
    "\n",
    "# Initialize the spell checker\n",
    "spell = SpellChecker()\n",
    "\n",
    "# Function to remove unrecognized words\n",
    "def remove_typos(text):\n",
    "    # Split the text into words\n",
    "    words = text.split()\n",
    "    # Check each word against the spell checker\n",
    "    valid_words = [word for word in words if word in spell or len(spell.unknown([word])) == 0]\n",
    "    # Join and return the valid words as a new string\n",
    "    return ' '.join(valid_words)\n",
    "\n",
    "# Apply the function to the 'Headline' column\n",
    "df['Cleaned_Headline'] = df['Clean_Headline'].apply(remove_typos)\n",
    "\n",
    "# Display the DataFrame to verify changes\n",
    "print(df[['Clean_Headline', 'Cleaned_Headline']])\n"
   ]
  },
  {
   "cell_type": "code",
   "execution_count": 80,
   "id": "5f8784fe",
   "metadata": {},
   "outputs": [
    {
     "name": "stderr",
     "output_type": "stream",
     "text": [
      "[nltk_data] Downloading package words to /Users/apple/nltk_data...\n",
      "[nltk_data]   Package words is already up-to-date!\n"
     ]
    }
   ],
   "source": [
    "import nltk\n",
    "nltk.download('words')\n",
    "from nltk.corpus import words\n",
    "\n",
    "word_list = set(words.words())\n",
    "\n",
    "def remove_non_dictionary_words(text):\n",
    "    return ' '.join(word for word in text.split() if word in word_list)\n",
    "\n",
    "# Assuming 'text' is a string containing your text data\n",
    "df['Cleaned_Headline'] = df['Cleaned_Headline'].apply(remove_non_dictionary_words)\n",
    "\n"
   ]
  },
  {
   "cell_type": "code",
   "execution_count": 81,
   "id": "e15d4b46",
   "metadata": {},
   "outputs": [
    {
     "name": "stderr",
     "output_type": "stream",
     "text": [
      "[nltk_data] Downloading package punkt to /Users/apple/nltk_data...\n",
      "[nltk_data]   Package punkt is already up-to-date!\n",
      "[nltk_data] Downloading package wordnet to /Users/apple/nltk_data...\n",
      "[nltk_data]   Package wordnet is already up-to-date!\n",
      "[nltk_data] Downloading package stopwords to /Users/apple/nltk_data...\n",
      "[nltk_data]   Package stopwords is already up-to-date!\n"
     ]
    },
    {
     "data": {
      "text/plain": [
       "True"
      ]
     },
     "execution_count": 81,
     "metadata": {},
     "output_type": "execute_result"
    }
   ],
   "source": [
    "import nltk\n",
    "from nltk.stem import WordNetLemmatizer\n",
    "from nltk.corpus import stopwords\n",
    "from nltk.tokenize import word_tokenize\n",
    "import re\n",
    "import pandas as pd\n",
    "\n",
    "# Download necessary NLTK data\n",
    "nltk.download('punkt')\n",
    "nltk.download('wordnet')\n",
    "nltk.download('stopwords')"
   ]
  },
  {
   "cell_type": "code",
   "execution_count": 82,
   "id": "ebff5110",
   "metadata": {},
   "outputs": [
    {
     "data": {
      "text/plain": [
       "0        [en:0.9999983647231657]\n",
       "1        [en:0.9999989595519065]\n",
       "2        [en:0.9999972613598334]\n",
       "3        [en:0.9999993308923599]\n",
       "4        [en:0.9999965952953935]\n",
       "                  ...           \n",
       "93234    [en:0.9999966549041139]\n",
       "93235    [en:0.9999944111262535]\n",
       "93236    [en:0.9999977830721223]\n",
       "93237    [en:0.9999982963552524]\n",
       "93238    [en:0.9999953970974593]\n",
       "Name: Cleaned_Headline, Length: 86553, dtype: object"
      ]
     },
     "execution_count": 82,
     "metadata": {},
     "output_type": "execute_result"
    }
   ],
   "source": [
    "from sklearn.feature_extraction.text import CountVectorizer\n",
    "from langdetect import detect_langs\n",
    "from langdetect import detect_langs, LangDetectException\n",
    "\n",
    "# Detecting the language of each headline\n",
    "def detect_language_safe(text):\n",
    "    try:\n",
    "        return detect_langs(text)\n",
    "    except LangDetectException:\n",
    "        return ['unknown']\n",
    "\n",
    "sample_headlines = df['Cleaned_Headline'].astype(str)\n",
    "detected_languages = sample_headlines.apply(lambda x: detect_language_safe(x))\n",
    "detected_languages"
   ]
  },
  {
   "cell_type": "code",
   "execution_count": 83,
   "id": "e9f56d56",
   "metadata": {},
   "outputs": [
    {
     "name": "stdout",
     "output_type": "stream",
     "text": [
      "Original number of headlines: 86553\n",
      "Number of headlines with only English Language headlines: 85924\n"
     ]
    }
   ],
   "source": [
    "def detect_language(text):\n",
    "    try:\n",
    "        languages = detect_langs(text)\n",
    "        return languages[0].lang\n",
    "    except LangDetectException:\n",
    "        return None\n",
    "\n",
    "# Detect language in batches\n",
    "batch_size = 1000\n",
    "languages = []\n",
    "\n",
    "for i in range(0, df.shape[0], batch_size):\n",
    "    batch = df['Cleaned_Headline'][i:i+batch_size].astype(str)\n",
    "    batch_languages = batch.apply(detect_language)\n",
    "    languages.extend(batch_languages)\n",
    "\n",
    "# Adding detected languages as a new column to the DataFrame\n",
    "df['Language'] = languages\n",
    "\n",
    "# Filtering out non-English headlines\n",
    "df_filtered = df[df['Language'] == 'en']\n",
    "\n",
    "\n",
    "print(f\"Original number of headlines: {df.shape[0]}\")\n",
    "print(f\"Number of headlines with only English Language headlines: {df_filtered.shape[0]}\")\n",
    "\n"
   ]
  },
  {
   "cell_type": "code",
   "execution_count": 84,
   "id": "9f5baeb8",
   "metadata": {},
   "outputs": [],
   "source": [
    "# Save the filtered DataFrame to a CSV file\n",
    "df_filtered.to_csv('filtered_headlines.csv', index=False)"
   ]
  },
  {
   "cell_type": "code",
   "execution_count": 85,
   "id": "3136b7fb",
   "metadata": {},
   "outputs": [
    {
     "name": "stderr",
     "output_type": "stream",
     "text": [
      "[nltk_data] Downloading package punkt to /Users/apple/nltk_data...\n",
      "[nltk_data]   Package punkt is already up-to-date!\n",
      "[nltk_data] Downloading package wordnet to /Users/apple/nltk_data...\n",
      "[nltk_data]   Package wordnet is already up-to-date!\n",
      "[nltk_data] Downloading package stopwords to /Users/apple/nltk_data...\n",
      "[nltk_data]   Package stopwords is already up-to-date!\n"
     ]
    },
    {
     "data": {
      "text/plain": [
       "True"
      ]
     },
     "execution_count": 85,
     "metadata": {},
     "output_type": "execute_result"
    }
   ],
   "source": [
    "import nltk\n",
    "from nltk.stem import WordNetLemmatizer\n",
    "from nltk.corpus import stopwords\n",
    "from nltk.tokenize import word_tokenize\n",
    "from nltk.stem import SnowballStemmer\n",
    "import re\n",
    "import pandas as pd\n",
    "\n",
    "# Download necessary NLTK data\n",
    "nltk.download('punkt')\n",
    "nltk.download('wordnet')\n",
    "nltk.download('stopwords')\n",
    "\n"
   ]
  },
  {
   "cell_type": "code",
   "execution_count": 86,
   "id": "22cc2827",
   "metadata": {},
   "outputs": [],
   "source": [
    "#Preprocess the Text Data\n",
    "def preprocess_text(text):\n",
    "    # Lowercasing\n",
    "    text = text.lower()\n",
    "\n",
    "    # Remove punctuation\n",
    "    text = re.sub(r'[^\\w\\s\\+\\¬\\†]', ' ', text)\n",
    "\n",
    "    # Tokenize\n",
    "    tokens = word_tokenize(text)\n",
    "\n",
    "    # Remove stopwords\n",
    "    stop_words = set(stopwords.words('english'))\n",
    "    filtered_tokens = [word for word in tokens if word not in stop_words]\n",
    "\n",
    "    # Lemmatize\n",
    "    lemmatizer = WordNetLemmatizer()\n",
    "    lemmatized_text = [lemmatizer.lemmatize(token) for token in filtered_tokens]\n",
    "\n",
    "    # Stemmer\n",
    "    stemmer = SnowballStemmer('english')\n",
    "    stemmed_words = [stemmer.stem(token) for token in lemmatized_text]\n",
    "\n",
    "    # Re-join tokens into a string\n",
    "    return ' '.join(stemmed_words)\n"
   ]
  },
  {
   "cell_type": "code",
   "execution_count": 87,
   "id": "9b9a43d7",
   "metadata": {
    "scrolled": false
   },
   "outputs": [
    {
     "name": "stdout",
     "output_type": "stream",
     "text": [
      "                                                Headline  \\\n",
      "0      Obama Lays Wreath at Arlington National Cemete...   \n",
      "1      Tim Haywood, investment director business-unit...   \n",
      "2      Nouriel Roubini, NYU professor and chairman at...   \n",
      "3      Finland's economy expanded marginally in the t...   \n",
      "4      Tourism and public spending continued to boost...   \n",
      "...                                                  ...   \n",
      "93234  The June employment report is viewed as a cruc...   \n",
      "93235  In addition, establish stimulating economic po...   \n",
      "93236  The Palestinian government spends nearly $ mil...   \n",
      "93237  Palestine Youth Orchestra prepares for first U...   \n",
      "93238  Goldstein, the proprietor of the TG Travel Gro...   \n",
      "\n",
      "                                      Processed_Headline  \n",
      "0                                      laid wreath honor  \n",
      "1         invest director head fix incom beig book state  \n",
      "2                 professor chairman global economi face  \n",
      "3      economi expand margin three end previous preli...  \n",
      "4      public spend continu boost economi light contr...  \n",
      "...                                                  ...  \n",
      "93234  employ report crucial gaug health economi last...  \n",
      "93235                    establish econom budget premier  \n",
      "93236        govern near million annual accord testimoni  \n",
      "93237                                first tour give six  \n",
      "93238                proprietor custom tour among affect  \n",
      "\n",
      "[85924 rows x 2 columns]\n"
     ]
    },
    {
     "name": "stderr",
     "output_type": "stream",
     "text": [
      "/var/folders/fq/_647ffs56fj29659nks78q8m0000gn/T/ipykernel_65733/1863648691.py:2: SettingWithCopyWarning: \n",
      "A value is trying to be set on a copy of a slice from a DataFrame.\n",
      "Try using .loc[row_indexer,col_indexer] = value instead\n",
      "\n",
      "See the caveats in the documentation: https://pandas.pydata.org/pandas-docs/stable/user_guide/indexing.html#returning-a-view-versus-a-copy\n",
      "  df_filtered['Processed_Headline'] = df_filtered['Cleaned_Headline'].apply(preprocess_text)\n"
     ]
    }
   ],
   "source": [
    "# Apply the preprocessing function to each headline\n",
    "df_filtered['Processed_Headline'] = df_filtered['Cleaned_Headline'].apply(preprocess_text)\n",
    "\n",
    "# Display the processed headlines\n",
    "print(df_filtered[['Headline', 'Processed_Headline']])"
   ]
  },
  {
   "cell_type": "markdown",
   "id": "08810572",
   "metadata": {},
   "source": [
    "### LSA"
   ]
  },
  {
   "cell_type": "code",
   "execution_count": 88,
   "id": "9044974a",
   "metadata": {},
   "outputs": [],
   "source": [
    "#Prepare Corpus\n",
    "from gensim import corpora, models\n",
    "\n",
    "# Tokenize the processed headlines\n",
    "texts = [headline.split() for headline in df_filtered['Processed_Headline']]\n",
    "\n",
    "# Create a dictionary representation of the documents.\n",
    "dictionary = corpora.Dictionary(texts)\n",
    "\n",
    "# Filter out words that occur too frequently or too rarely\n",
    "dictionary.filter_extremes(no_below=5, no_above=0.5)\n",
    "\n",
    "# Convert dictionary to a bag-of-words corpus\n",
    "corpus = [dictionary.doc2bow(text) for text in texts]"
   ]
  },
  {
   "cell_type": "code",
   "execution_count": 105,
   "id": "24e76359",
   "metadata": {},
   "outputs": [
    {
     "data": {
      "text/plain": [
       "[(0,\n",
       "  '0.850*\"economi\" + 0.217*\"said\" + 0.141*\"econom\" + 0.140*\"growth\" + 0.121*\"percent\" + 0.110*\"global\" + 0.099*\"new\" + 0.093*\"year\" + 0.090*\"first\" + 0.086*\"quarter\" + 0.077*\"last\" + 0.070*\"grew\" + 0.065*\"grow\" + 0.063*\"would\" + 0.061*\"rate\" + 0.056*\"govern\" + 0.051*\"per\" + 0.051*\"could\" + 0.050*\"data\" + 0.048*\"accord\" + 0.046*\"like\" + 0.045*\"state\" + 0.041*\"three\" + 0.040*\"expand\" + 0.039*\"one\" + 0.039*\"cent\" + 0.039*\"may\" + 0.038*\"oil\" + 0.038*\"next\" + 0.037*\"sinc\" + 0.036*\"pace\" + 0.036*\"domest\" + 0.036*\"world\" + 0.036*\"market\" + 0.035*\"feder\" + 0.034*\"financi\" + 0.033*\"report\" + 0.033*\"two\" + 0.031*\"third\" + 0.031*\"also\" + 0.031*\"time\" + 0.030*\"make\" + 0.030*\"busi\" + 0.029*\"strong\" + 0.029*\"continu\" + 0.029*\"come\" + 0.028*\"recent\" + 0.027*\"second\" + 0.026*\"final\" + 0.026*\"product\" + 0.026*\"still\" + 0.026*\"back\" + 0.026*\"countri\" + 0.025*\"remain\" + 0.025*\"spend\" + 0.025*\"offici\" + 0.025*\"peopl\" + 0.024*\"interest\" + 0.024*\"take\" + 0.024*\"show\" + 0.024*\"previous\" + 0.024*\"annual\" + 0.024*\"major\" + 0.024*\"say\" + 0.023*\"good\" + 0.023*\"latest\" + 0.022*\"help\" + 0.022*\"central\" + 0.022*\"set\" + 0.022*\"increas\" + 0.021*\"contract\" + 0.021*\"end\" + 0.021*\"nation\" + 0.021*\"south\" + 0.021*\"despit\" + 0.021*\"go\" + 0.020*\"work\" + 0.020*\"weak\" + 0.020*\"even\" + 0.020*\"forecast\" + 0.020*\"consum\" + 0.020*\"need\" + 0.020*\"slowdown\" + 0.020*\"much\" + 0.020*\"start\" + 0.019*\"month\" + 0.019*\"invest\" + 0.019*\"fourth\" + 0.019*\"face\" + 0.019*\"bank\" + 0.019*\"week\" + 0.019*\"meet\" + 0.018*\"top\" + 0.018*\"boost\" + 0.018*\"recess\" + 0.018*\"industri\" + 0.018*\"use\" + 0.018*\"trade\" + 0.018*\"polici\" + 0.018*\"billion\"'),\n",
       " (1,\n",
       "  '0.553*\"said\" + 0.456*\"econom\" + -0.420*\"economi\" + 0.323*\"new\" + 0.151*\"would\" + 0.098*\"first\" + 0.093*\"growth\" + 0.086*\"state\" + 0.073*\"last\" + 0.073*\"one\" + 0.069*\"presid\" + 0.062*\"visit\" + 0.060*\"compani\" + 0.059*\"make\" + 0.056*\"year\" + 0.056*\"like\" + 0.055*\"administr\" + 0.051*\"peopl\" + 0.051*\"use\" + 0.049*\"next\" + 0.048*\"week\" + 0.047*\"come\" + 0.046*\"work\" + 0.045*\"meet\" + 0.045*\"also\" + 0.045*\"two\" + 0.044*\"govern\" + 0.043*\"take\" + 0.043*\"could\" + 0.042*\"time\" + 0.042*\"help\" + 0.038*\"secur\" + 0.037*\"support\" + 0.036*\"made\" + 0.036*\"feder\" + 0.035*\"get\" + 0.035*\"recent\" + 0.034*\"global\" + 0.034*\"gun\" + 0.033*\"may\" + 0.033*\"final\" + 0.033*\"million\" + 0.032*\"develop\" + 0.031*\"polit\" + 0.031*\"say\" + 0.031*\"set\" + 0.030*\"presidenti\" + 0.030*\"execut\" + 0.029*\"today\" + 0.029*\"data\" + 0.029*\"part\" + 0.028*\"day\" + 0.027*\"way\" + 0.027*\"go\" + -0.027*\"grew\" + 0.027*\"address\" + 0.026*\"major\" + 0.026*\"busi\" + 0.026*\"latest\" + 0.025*\"end\" + 0.025*\"world\" + 0.025*\"report\" + 0.024*\"cloud\" + 0.024*\"nation\" + 0.024*\"countri\" + 0.024*\"offici\" + 0.024*\"confer\" + 0.023*\"sinc\" + 0.023*\"leav\" + 0.023*\"deal\" + 0.022*\"polici\" + 0.022*\"need\" + 0.021*\"mani\" + 0.021*\"build\" + 0.021*\"plan\" + 0.021*\"back\" + 0.021*\"former\" + 0.020*\"offer\" + 0.020*\"top\" + 0.020*\"updat\" + 0.020*\"chief\" + 0.020*\"news\" + 0.020*\"public\" + 0.020*\"becom\" + 0.020*\"current\" + 0.020*\"climat\" + 0.020*\"look\" + 0.020*\"open\" + 0.020*\"trade\" + 0.020*\"offic\" + 0.020*\"fight\" + 0.019*\"even\" + 0.019*\"oper\" + 0.019*\"billion\" + 0.019*\"told\" + 0.019*\"technolog\" + 0.019*\"group\" + 0.019*\"power\" + 0.019*\"campaign\" + 0.019*\"tri\"'),\n",
       " (2,\n",
       "  '-0.783*\"econom\" + 0.452*\"said\" + 0.260*\"new\" + -0.242*\"growth\" + 0.086*\"would\" + -0.074*\"global\" + 0.048*\"state\" + 0.042*\"presid\" + 0.040*\"compani\" + -0.037*\"percent\" + 0.037*\"visit\" + -0.036*\"quarter\" + 0.033*\"administr\" + 0.032*\"economi\" + 0.032*\"make\" + 0.031*\"first\" + 0.029*\"work\" + 0.029*\"use\" + 0.028*\"gun\" + -0.028*\"per\" + 0.028*\"peopl\" + -0.026*\"cent\" + -0.025*\"year\" + -0.025*\"slowdown\" + -0.023*\"data\" + -0.021*\"outlook\" + 0.021*\"execut\" + -0.020*\"financi\" + -0.020*\"rate\" + 0.020*\"meet\" + 0.019*\"today\" + -0.018*\"impact\" + -0.018*\"oil\" + 0.018*\"help\" + -0.018*\"weak\" + 0.017*\"one\" + 0.017*\"final\" + 0.017*\"get\" + -0.017*\"activ\" + -0.017*\"recoveri\" + 0.017*\"take\" + -0.016*\"pace\" + -0.016*\"grew\" + -0.016*\"crisi\" + 0.016*\"support\" + -0.016*\"forecast\" + 0.016*\"presidenti\" + 0.015*\"address\" + 0.015*\"secur\" + -0.015*\"domest\" + 0.014*\"million\" + 0.014*\"fight\" + 0.014*\"week\" + 0.013*\"oper\" + 0.013*\"cloud\" + 0.013*\"updat\" + 0.013*\"go\" + 0.013*\"made\" + 0.013*\"next\" + 0.012*\"nuclear\" + 0.012*\"confer\" + 0.012*\"version\" + 0.012*\"build\" + 0.012*\"way\" + -0.012*\"sinc\" + 0.012*\"game\" + 0.012*\"deal\" + 0.012*\"shoot\" + 0.012*\"come\" + 0.011*\"offer\" + 0.011*\"interview\" + -0.011*\"stock\" + -0.011*\"strong\" + -0.011*\"third\" + -0.011*\"polit\" + 0.011*\"avail\" + 0.011*\"move\" + -0.011*\"despit\" + 0.010*\"give\" + 0.010*\"control\" + -0.010*\"market\" + 0.010*\"day\" + 0.010*\"technolog\" + 0.010*\"group\" + 0.010*\"san\" + 0.010*\"call\" + 0.010*\"part\" + 0.009*\"free\" + -0.009*\"fourth\" + 0.009*\"tri\" + 0.009*\"cuba\" + 0.009*\"campaign\" + -0.009*\"accord\" + -0.009*\"annual\" + 0.009*\"announc\" + 0.009*\"video\" + -0.009*\"spend\" + 0.009*\"open\" + 0.009*\"access\" + 0.009*\"press\"'),\n",
       " (3,\n",
       "  '0.819*\"new\" + -0.524*\"said\" + -0.057*\"percent\" + -0.054*\"would\" + 0.045*\"compani\" + 0.040*\"one\" + 0.038*\"accord\" + 0.033*\"get\" + 0.032*\"updat\" + 0.032*\"busi\" + -0.031*\"growth\" + 0.031*\"make\" + 0.030*\"work\" + 0.029*\"build\" + 0.029*\"data\" + 0.028*\"come\" + 0.027*\"oper\" + 0.026*\"today\" + 0.025*\"report\" + -0.024*\"state\" + 0.024*\"latest\" + 0.024*\"version\" + 0.023*\"two\" + 0.023*\"cloud\" + 0.023*\"avail\" + -0.023*\"visit\" + 0.023*\"develop\" + 0.023*\"set\" + 0.022*\"featur\" + 0.022*\"system\" + 0.021*\"use\" + 0.021*\"economi\" + 0.021*\"way\" + -0.021*\"presid\" + 0.020*\"recent\" + 0.020*\"help\" + 0.020*\"last\" + 0.019*\"time\" + 0.019*\"may\" + 0.018*\"gun\" + 0.018*\"look\" + 0.018*\"mobil\" + 0.018*\"major\" + 0.018*\"unveil\" + 0.018*\"administr\" + 0.017*\"technolog\" + 0.017*\"provid\" + 0.017*\"servic\" + 0.017*\"releas\" + 0.017*\"take\" + 0.017*\"part\" + 0.017*\"mani\" + 0.016*\"big\" + 0.016*\"program\" + 0.016*\"design\" + -0.016*\"quarter\" + 0.016*\"preview\" + 0.015*\"roll\" + 0.015*\"launch\" + 0.015*\"give\" + 0.015*\"ad\" + 0.015*\"run\" + 0.015*\"offer\" + 0.014*\"could\" + 0.014*\"digit\" + 0.014*\"year\" + 0.014*\"access\" + 0.014*\"support\" + 0.014*\"like\" + -0.013*\"grew\" + 0.013*\"push\" + 0.013*\"announc\" + 0.013*\"also\" + -0.013*\"leav\" + -0.013*\"meet\" + 0.013*\"browser\" + 0.013*\"free\" + 0.012*\"start\" + 0.012*\"peopl\" + 0.012*\"number\" + 0.012*\"test\" + 0.012*\"reveal\" + 0.012*\"execut\" + -0.011*\"vote\" + 0.011*\"bring\" + 0.011*\"open\" + 0.011*\"across\" + -0.011*\"domest\" + 0.011*\"platform\" + 0.011*\"creat\" + 0.010*\"market\" + 0.010*\"million\" + 0.010*\"increas\" + 0.010*\"upgrad\" + 0.010*\"includ\" + 0.010*\"tool\" + 0.010*\"sever\" + 0.010*\"back\" + 0.010*\"move\" + -0.010*\"govern\"')]"
      ]
     },
     "execution_count": 105,
     "metadata": {},
     "output_type": "execute_result"
    }
   ],
   "source": [
    "# Train LSA model.\n",
    "num_topics = 4\n",
    "num_words = 100\n",
    "lsa_model = models.LsiModel(corpus=corpus, id2word=dictionary, num_topics=num_topics)\n",
    "lsa_model.print_topics(num_topics=num_topics, num_words=num_words)\n",
    "\n"
   ]
  },
  {
   "cell_type": "code",
   "execution_count": 90,
   "id": "d2fa19d3",
   "metadata": {
    "scrolled": true
   },
   "outputs": [
    {
     "name": "stdout",
     "output_type": "stream",
     "text": [
      "Coherence Score: 0.3258064973856116\n"
     ]
    }
   ],
   "source": [
    "#Determine the number of topics\n",
    "\n",
    "from gensim.models.coherencemodel import CoherenceModel\n",
    "\n",
    "coherence_model = CoherenceModel(model=lsi_model, texts=texts, dictionary=dictionary, coherence='c_v')\n",
    "coherence_score = coherence_model.get_coherence()\n",
    "print('Coherence Score:', coherence_score)\n"
   ]
  },
  {
   "cell_type": "code",
   "execution_count": 92,
   "id": "57f9e22d",
   "metadata": {},
   "outputs": [
    {
     "name": "stdout",
     "output_type": "stream",
     "text": [
      "Num Topics: 2, Coherence Score: 0.443687077783143\n",
      "Num Topics: 4, Coherence Score: 0.41179440093438535\n",
      "Num Topics: 6, Coherence Score: 0.39079558661158503\n",
      "Num Topics: 8, Coherence Score: 0.36365095995390306\n",
      "Num Topics: 10, Coherence Score: 0.3487058480098848\n",
      "Num Topics: 12, Coherence Score: 0.36476517159520955\n",
      "Num Topics: 14, Coherence Score: 0.36058635240746967\n",
      "Num Topics: 16, Coherence Score: 0.35862591287153883\n",
      "Num Topics: 18, Coherence Score: 0.35462679724635743\n",
      "Num Topics: 20, Coherence Score: 0.3422286852723427\n"
     ]
    },
    {
     "data": {
      "image/png": "[encoded data removed]",
      "text/plain": [
       "<Figure size 1000x500 with 1 Axes>"
      ]
     },
     "metadata": {},
     "output_type": "display_data"
    }
   ],
   "source": [
    "from gensim.models import LsiModel\n",
    "from gensim.models.coherencemodel import CoherenceModel\n",
    "import matplotlib.pyplot as plt\n",
    "\n",
    "\n",
    "# Define the range of topics to explore\n",
    "topic_range = range(2, 21, 2)\n",
    "\n",
    "coherence_scores = []\n",
    "\n",
    "for num_topics in topic_range:\n",
    "    # Train LSA model\n",
    "    lsi_model = LsiModel(corpus=corpus, num_topics=num_topics, id2word=dictionary)\n",
    "    \n",
    "    # Calculate Coherence Score\n",
    "    coherence_model = CoherenceModel(model=lsi_model, texts=texts, dictionary=dictionary, coherence='c_v')\n",
    "    coherence_score = coherence_model.get_coherence()\n",
    "    coherence_scores.append(coherence_score)\n",
    "\n",
    "    print(f\"Num Topics: {num_topics}, Coherence Score: {coherence_score}\")\n",
    "\n",
    "# Plot\n",
    "plt.figure(figsize=(10, 5))\n",
    "plt.plot(topic_range, coherence_scores, marker='o')\n",
    "plt.title('LSA Model Coherence Score by Number of Topics')\n",
    "plt.xlabel('Number of Topics')\n",
    "plt.ylabel('Coherence Score')\n",
    "plt.xticks(topic_range)\n",
    "plt.show()\n"
   ]
  },
  {
   "cell_type": "markdown",
   "id": "abd80699",
   "metadata": {},
   "source": [
    "Based on this graph, the optimal number of topics for this dataset, judged purely by coherence score, might be around 2 where has the highest coherence score"
   ]
  },
  {
   "cell_type": "markdown",
   "id": "51ecff40",
   "metadata": {},
   "source": [
    "### Document-Term Matrix (DTM): Transform the preprocessed headlines into a DTM, which quantifies the headlines by the occurrence of words."
   ]
  },
  {
   "cell_type": "code",
   "execution_count": 18,
   "id": "affbaba9",
   "metadata": {},
   "outputs": [
    {
     "name": "stderr",
     "output_type": "stream",
     "text": [
      "[nltk_data] Downloading package punkt to /Users/apple/nltk_data...\n",
      "[nltk_data]   Package punkt is already up-to-date!\n",
      "[nltk_data] Downloading package wordnet to /Users/apple/nltk_data...\n",
      "[nltk_data]   Package wordnet is already up-to-date!\n",
      "[nltk_data] Downloading package stopwords to /Users/apple/nltk_data...\n",
      "[nltk_data]   Package stopwords is already up-to-date!\n"
     ]
    },
    {
     "data": {
      "text/plain": [
       "True"
      ]
     },
     "execution_count": 18,
     "metadata": {},
     "output_type": "execute_result"
    }
   ],
   "source": [
    "import pandas as pd\n",
    "import nltk\n",
    "from nltk.stem import WordNetLemmatizer\n",
    "from nltk.corpus import stopwords\n",
    "from nltk.tokenize import word_tokenize\n",
    "import string\n",
    "\n",
    "nltk.download('punkt')\n",
    "nltk.download('wordnet')\n",
    "nltk.download('stopwords')"
   ]
  },
  {
   "cell_type": "code",
   "execution_count": 95,
   "id": "540cb937",
   "metadata": {
    "scrolled": false
   },
   "outputs": [
    {
     "data": {
      "text/html": [
       "<div>\n",
       "<style scoped>\n",
       "    .dataframe tbody tr th:only-of-type {\n",
       "        vertical-align: middle;\n",
       "    }\n",
       "\n",
       "    .dataframe tbody tr th {\n",
       "        vertical-align: top;\n",
       "    }\n",
       "\n",
       "    .dataframe thead th {\n",
       "        text-align: right;\n",
       "    }\n",
       "</style>\n",
       "<table border=\"1\" class=\"dataframe\">\n",
       "  <thead>\n",
       "    <tr style=\"text-align: right;\">\n",
       "      <th></th>\n",
       "      <th>aback</th>\n",
       "      <th>abandon</th>\n",
       "      <th>abat</th>\n",
       "      <th>abbey</th>\n",
       "      <th>abhor</th>\n",
       "      <th>abid</th>\n",
       "      <th>abil</th>\n",
       "      <th>abject</th>\n",
       "      <th>abl</th>\n",
       "      <th>ablaz</th>\n",
       "      <th>...</th>\n",
       "      <th>zeal</th>\n",
       "      <th>zero</th>\n",
       "      <th>zigzag</th>\n",
       "      <th>zinc</th>\n",
       "      <th>zing</th>\n",
       "      <th>zip</th>\n",
       "      <th>zloti</th>\n",
       "      <th>zombi</th>\n",
       "      <th>zone</th>\n",
       "      <th>zoo</th>\n",
       "    </tr>\n",
       "  </thead>\n",
       "  <tbody>\n",
       "    <tr>\n",
       "      <th>0</th>\n",
       "      <td>0</td>\n",
       "      <td>0</td>\n",
       "      <td>0</td>\n",
       "      <td>0</td>\n",
       "      <td>0</td>\n",
       "      <td>0</td>\n",
       "      <td>0</td>\n",
       "      <td>0</td>\n",
       "      <td>0</td>\n",
       "      <td>0</td>\n",
       "      <td>...</td>\n",
       "      <td>0</td>\n",
       "      <td>0</td>\n",
       "      <td>0</td>\n",
       "      <td>0</td>\n",
       "      <td>0</td>\n",
       "      <td>0</td>\n",
       "      <td>0</td>\n",
       "      <td>0</td>\n",
       "      <td>0</td>\n",
       "      <td>0</td>\n",
       "    </tr>\n",
       "    <tr>\n",
       "      <th>1</th>\n",
       "      <td>0</td>\n",
       "      <td>0</td>\n",
       "      <td>0</td>\n",
       "      <td>0</td>\n",
       "      <td>0</td>\n",
       "      <td>0</td>\n",
       "      <td>0</td>\n",
       "      <td>0</td>\n",
       "      <td>0</td>\n",
       "      <td>0</td>\n",
       "      <td>...</td>\n",
       "      <td>0</td>\n",
       "      <td>0</td>\n",
       "      <td>0</td>\n",
       "      <td>0</td>\n",
       "      <td>0</td>\n",
       "      <td>0</td>\n",
       "      <td>0</td>\n",
       "      <td>0</td>\n",
       "      <td>0</td>\n",
       "      <td>0</td>\n",
       "    </tr>\n",
       "    <tr>\n",
       "      <th>2</th>\n",
       "      <td>0</td>\n",
       "      <td>0</td>\n",
       "      <td>0</td>\n",
       "      <td>0</td>\n",
       "      <td>0</td>\n",
       "      <td>0</td>\n",
       "      <td>0</td>\n",
       "      <td>0</td>\n",
       "      <td>0</td>\n",
       "      <td>0</td>\n",
       "      <td>...</td>\n",
       "      <td>0</td>\n",
       "      <td>0</td>\n",
       "      <td>0</td>\n",
       "      <td>0</td>\n",
       "      <td>0</td>\n",
       "      <td>0</td>\n",
       "      <td>0</td>\n",
       "      <td>0</td>\n",
       "      <td>0</td>\n",
       "      <td>0</td>\n",
       "    </tr>\n",
       "    <tr>\n",
       "      <th>3</th>\n",
       "      <td>0</td>\n",
       "      <td>0</td>\n",
       "      <td>0</td>\n",
       "      <td>0</td>\n",
       "      <td>0</td>\n",
       "      <td>0</td>\n",
       "      <td>0</td>\n",
       "      <td>0</td>\n",
       "      <td>0</td>\n",
       "      <td>0</td>\n",
       "      <td>...</td>\n",
       "      <td>0</td>\n",
       "      <td>0</td>\n",
       "      <td>0</td>\n",
       "      <td>0</td>\n",
       "      <td>0</td>\n",
       "      <td>0</td>\n",
       "      <td>0</td>\n",
       "      <td>0</td>\n",
       "      <td>0</td>\n",
       "      <td>0</td>\n",
       "    </tr>\n",
       "    <tr>\n",
       "      <th>4</th>\n",
       "      <td>0</td>\n",
       "      <td>0</td>\n",
       "      <td>0</td>\n",
       "      <td>0</td>\n",
       "      <td>0</td>\n",
       "      <td>0</td>\n",
       "      <td>0</td>\n",
       "      <td>0</td>\n",
       "      <td>0</td>\n",
       "      <td>0</td>\n",
       "      <td>...</td>\n",
       "      <td>0</td>\n",
       "      <td>0</td>\n",
       "      <td>0</td>\n",
       "      <td>0</td>\n",
       "      <td>0</td>\n",
       "      <td>0</td>\n",
       "      <td>0</td>\n",
       "      <td>0</td>\n",
       "      <td>0</td>\n",
       "      <td>0</td>\n",
       "    </tr>\n",
       "    <tr>\n",
       "      <th>...</th>\n",
       "      <td>...</td>\n",
       "      <td>...</td>\n",
       "      <td>...</td>\n",
       "      <td>...</td>\n",
       "      <td>...</td>\n",
       "      <td>...</td>\n",
       "      <td>...</td>\n",
       "      <td>...</td>\n",
       "      <td>...</td>\n",
       "      <td>...</td>\n",
       "      <td>...</td>\n",
       "      <td>...</td>\n",
       "      <td>...</td>\n",
       "      <td>...</td>\n",
       "      <td>...</td>\n",
       "      <td>...</td>\n",
       "      <td>...</td>\n",
       "      <td>...</td>\n",
       "      <td>...</td>\n",
       "      <td>...</td>\n",
       "      <td>...</td>\n",
       "    </tr>\n",
       "    <tr>\n",
       "      <th>85919</th>\n",
       "      <td>0</td>\n",
       "      <td>0</td>\n",
       "      <td>0</td>\n",
       "      <td>0</td>\n",
       "      <td>0</td>\n",
       "      <td>0</td>\n",
       "      <td>0</td>\n",
       "      <td>0</td>\n",
       "      <td>0</td>\n",
       "      <td>0</td>\n",
       "      <td>...</td>\n",
       "      <td>0</td>\n",
       "      <td>0</td>\n",
       "      <td>0</td>\n",
       "      <td>0</td>\n",
       "      <td>0</td>\n",
       "      <td>0</td>\n",
       "      <td>0</td>\n",
       "      <td>0</td>\n",
       "      <td>0</td>\n",
       "      <td>0</td>\n",
       "    </tr>\n",
       "    <tr>\n",
       "      <th>85920</th>\n",
       "      <td>0</td>\n",
       "      <td>0</td>\n",
       "      <td>0</td>\n",
       "      <td>0</td>\n",
       "      <td>0</td>\n",
       "      <td>0</td>\n",
       "      <td>0</td>\n",
       "      <td>0</td>\n",
       "      <td>0</td>\n",
       "      <td>0</td>\n",
       "      <td>...</td>\n",
       "      <td>0</td>\n",
       "      <td>0</td>\n",
       "      <td>0</td>\n",
       "      <td>0</td>\n",
       "      <td>0</td>\n",
       "      <td>0</td>\n",
       "      <td>0</td>\n",
       "      <td>0</td>\n",
       "      <td>0</td>\n",
       "      <td>0</td>\n",
       "    </tr>\n",
       "    <tr>\n",
       "      <th>85921</th>\n",
       "      <td>0</td>\n",
       "      <td>0</td>\n",
       "      <td>0</td>\n",
       "      <td>0</td>\n",
       "      <td>0</td>\n",
       "      <td>0</td>\n",
       "      <td>0</td>\n",
       "      <td>0</td>\n",
       "      <td>0</td>\n",
       "      <td>0</td>\n",
       "      <td>...</td>\n",
       "      <td>0</td>\n",
       "      <td>0</td>\n",
       "      <td>0</td>\n",
       "      <td>0</td>\n",
       "      <td>0</td>\n",
       "      <td>0</td>\n",
       "      <td>0</td>\n",
       "      <td>0</td>\n",
       "      <td>0</td>\n",
       "      <td>0</td>\n",
       "    </tr>\n",
       "    <tr>\n",
       "      <th>85922</th>\n",
       "      <td>0</td>\n",
       "      <td>0</td>\n",
       "      <td>0</td>\n",
       "      <td>0</td>\n",
       "      <td>0</td>\n",
       "      <td>0</td>\n",
       "      <td>0</td>\n",
       "      <td>0</td>\n",
       "      <td>0</td>\n",
       "      <td>0</td>\n",
       "      <td>...</td>\n",
       "      <td>0</td>\n",
       "      <td>0</td>\n",
       "      <td>0</td>\n",
       "      <td>0</td>\n",
       "      <td>0</td>\n",
       "      <td>0</td>\n",
       "      <td>0</td>\n",
       "      <td>0</td>\n",
       "      <td>0</td>\n",
       "      <td>0</td>\n",
       "    </tr>\n",
       "    <tr>\n",
       "      <th>85923</th>\n",
       "      <td>0</td>\n",
       "      <td>0</td>\n",
       "      <td>0</td>\n",
       "      <td>0</td>\n",
       "      <td>0</td>\n",
       "      <td>0</td>\n",
       "      <td>0</td>\n",
       "      <td>0</td>\n",
       "      <td>0</td>\n",
       "      <td>0</td>\n",
       "      <td>...</td>\n",
       "      <td>0</td>\n",
       "      <td>0</td>\n",
       "      <td>0</td>\n",
       "      <td>0</td>\n",
       "      <td>0</td>\n",
       "      <td>0</td>\n",
       "      <td>0</td>\n",
       "      <td>0</td>\n",
       "      <td>0</td>\n",
       "      <td>0</td>\n",
       "    </tr>\n",
       "  </tbody>\n",
       "</table>\n",
       "<p>85924 rows × 9603 columns</p>\n",
       "</div>"
      ],
      "text/plain": [
       "       aback  abandon  abat  abbey  abhor  abid  abil  abject  abl  ablaz  \\\n",
       "0          0        0     0      0      0     0     0       0    0      0   \n",
       "1          0        0     0      0      0     0     0       0    0      0   \n",
       "2          0        0     0      0      0     0     0       0    0      0   \n",
       "3          0        0     0      0      0     0     0       0    0      0   \n",
       "4          0        0     0      0      0     0     0       0    0      0   \n",
       "...      ...      ...   ...    ...    ...   ...   ...     ...  ...    ...   \n",
       "85919      0        0     0      0      0     0     0       0    0      0   \n",
       "85920      0        0     0      0      0     0     0       0    0      0   \n",
       "85921      0        0     0      0      0     0     0       0    0      0   \n",
       "85922      0        0     0      0      0     0     0       0    0      0   \n",
       "85923      0        0     0      0      0     0     0       0    0      0   \n",
       "\n",
       "       ...  zeal  zero  zigzag  zinc  zing  zip  zloti  zombi  zone  zoo  \n",
       "0      ...     0     0       0     0     0    0      0      0     0    0  \n",
       "1      ...     0     0       0     0     0    0      0      0     0    0  \n",
       "2      ...     0     0       0     0     0    0      0      0     0    0  \n",
       "3      ...     0     0       0     0     0    0      0      0     0    0  \n",
       "4      ...     0     0       0     0     0    0      0      0     0    0  \n",
       "...    ...   ...   ...     ...   ...   ...  ...    ...    ...   ...  ...  \n",
       "85919  ...     0     0       0     0     0    0      0      0     0    0  \n",
       "85920  ...     0     0       0     0     0    0      0      0     0    0  \n",
       "85921  ...     0     0       0     0     0    0      0      0     0    0  \n",
       "85922  ...     0     0       0     0     0    0      0      0     0    0  \n",
       "85923  ...     0     0       0     0     0    0      0      0     0    0  \n",
       "\n",
       "[85924 rows x 9603 columns]"
      ]
     },
     "execution_count": 95,
     "metadata": {},
     "output_type": "execute_result"
    }
   ],
   "source": [
    "from sklearn.feature_extraction.text import CountVectorizer\n",
    "\n",
    "vectorizer = CountVectorizer()\n",
    "#\n",
    "dtm = vectorizer.fit_transform(df_filtered['Processed_Headline'])\n",
    "\n",
    "\n",
    "dtm_df = pd.DataFrame(dtm.toarray(), columns=vectorizer.get_feature_names_out())\n",
    "# dtm_df = pd.DataFrame(dtm.toarray(), columns=vectorizer.get_feature_names())\n",
    "\n",
    "dtm_df"
   ]
  },
  {
   "cell_type": "markdown",
   "id": "07922aab",
   "metadata": {},
   "source": [
    "### SVD"
   ]
  },
  {
   "cell_type": "code",
   "execution_count": 104,
   "id": "1b9ed6d8",
   "metadata": {},
   "outputs": [
    {
     "name": "stdout",
     "output_type": "stream",
     "text": [
      "Topic'economy'highest weighted terms:\n",
      "economi (0.0734)\n",
      "econom (0.0459)\n",
      "said (0.0267)\n",
      "growth (0.0258)\n",
      "global (0.0222)\n",
      "percent (0.0167)\n",
      "new (0.0166)\n",
      "year (0.0158)\n",
      "govern (0.0135)\n",
      "grow (0.0135)\n",
      "\n",
      "\n",
      "Topic'microsoft'highest weighted terms:\n",
      "new (0.0386)\n",
      "compani (0.0226)\n",
      "cloud (0.0143)\n",
      "today (0.0137)\n",
      "work (0.0126)\n",
      "use (0.0123)\n",
      "make (0.0122)\n",
      "said (0.0121)\n",
      "like (0.0120)\n",
      "come (0.0115)\n",
      "\n",
      "\n",
      "Topic'obama'highest weighted terms:\n",
      "said (0.0268)\n",
      "administr (0.0210)\n",
      "state (0.0192)\n",
      "presid (0.0174)\n",
      "visit (0.0160)\n",
      "meet (0.0142)\n",
      "new (0.0142)\n",
      "presidenti (0.0126)\n",
      "final (0.0110)\n",
      "say (0.0103)\n",
      "\n",
      "\n",
      "Topic'palestine'highest weighted terms:\n",
      "israel (0.0282)\n",
      "state (0.0186)\n",
      "said (0.0181)\n",
      "medium (0.0160)\n",
      "servic (0.0127)\n",
      "support (0.0123)\n",
      "visit (0.0119)\n",
      "peopl (0.0111)\n",
      "peac (0.0111)\n",
      "intern (0.0109)\n",
      "\n",
      "\n"
     ]
    }
   ],
   "source": [
    "import pandas as pd\n",
    "from sklearn.feature_extraction.text import TfidfVectorizer\n",
    "\n",
    "tfidf_vectorizer = TfidfVectorizer(stop_words='english', max_features=1000)\n",
    "\n",
    "topics = ['economy', 'microsoft', 'obama', 'palestine']\n",
    "\n",
    "for topic in topics:\n",
    "    # Filter all headlines for the current topic\n",
    "    docs = df_filtered[df_filtered['Topic'] == topic]['Processed_Headline']\n",
    "    \n",
    "    # Apply TF-IDF conversion\n",
    "    tfidf_matrix = tfidf_vectorizer.fit_transform(docs)\n",
    "    feature_names = tfidf_vectorizer.get_feature_names_out()\n",
    "    \n",
    "    # Get the average TF-IDF score for each term and sort it\n",
    "    avg_tfidf_scores = tfidf_matrix.mean(axis=0).A1\n",
    "    tfidf_scores = zip(feature_names, avg_tfidf_scores)\n",
    "    sorted_scores = sorted(tfidf_scores, key=lambda x: x[1], reverse=True)[:10]  # 取前10个高TF-IDF分数的词项\n",
    "    \n",
    "    print(f\"Topic'{topic}'highest weighted terms:\")\n",
    "    for term, score in sorted_scores:\n",
    "        print(f\"{term} ({score:.4f})\")\n",
    "    print(\"\\n\")\n"
   ]
  },
  {
   "cell_type": "code",
   "execution_count": 96,
   "id": "c36691a1",
   "metadata": {},
   "outputs": [
    {
     "name": "stdout",
     "output_type": "stream",
     "text": [
      "Explained variance of the SVD step: 6.11%\n",
      "Topic 1:\n",
      "economi, said, econom, growth, percent, global, new, year, first, quarter\n",
      "Topic 2:\n",
      "said, econom, new, would, first, growth, state, one, last, presid\n",
      "Topic 3:\n",
      "new, compani, economi, first, one, accord, make, updat, get, work\n",
      "Topic 4:\n",
      "econom, growth, global, data, year, per, quarter, cent, slowdown, accord\n"
     ]
    }
   ],
   "source": [
    "import numpy as np\n",
    "from sklearn.decomposition import TruncatedSVD\n",
    "from sklearn.preprocessing import Normalizer\n",
    "from sklearn.pipeline import make_pipeline\n",
    "\n",
    "# Define the number of topics\n",
    "n_topics = 4\n",
    "\n",
    "# Perform SVD\n",
    "svd = TruncatedSVD(n_components=n_topics)\n",
    "normalizer = Normalizer(copy=False)\n",
    "lsa = make_pipeline(svd, normalizer)\n",
    "\n",
    "# Fit LSA model to the DTM\n",
    "dtm_lsa = lsa.fit_transform(dtm_df)\n",
    "\n",
    "# Examine the explained variance to help decide how many topics to retain\n",
    "explained_variance = svd.explained_variance_ratio_.sum()\n",
    "print(f\"Explained variance of the SVD step: {explained_variance*100:.2f}%\")\n",
    "\n",
    "# Inspect terms associated with each topic to label them accordingly\n",
    "terms = np.array(dtm_df.columns)\n",
    "for i, comp in enumerate(svd.components_):\n",
    "    terms_comp = zip(terms, comp)\n",
    "    sorted_terms = sorted(terms_comp, key=lambda x: x[1], reverse=True)[:10]\n",
    "    print(f\"Topic {i+1}:\")\n",
    "    print(\", \".join([t[0] for t in sorted_terms]))\n"
   ]
  },
  {
   "cell_type": "markdown",
   "id": "d3633289",
   "metadata": {},
   "source": [
    "### PCA"
   ]
  },
  {
   "cell_type": "code",
   "execution_count": 20,
   "id": "da8c4705",
   "metadata": {},
   "outputs": [],
   "source": [
    "# from sklearn.decomposition import PCA\n",
    "# import matplotlib.pyplot as plt"
   ]
  },
  {
   "cell_type": "code",
   "execution_count": 21,
   "id": "962cc84c",
   "metadata": {},
   "outputs": [],
   "source": [
    "# from sklearn.preprocessing import StandardScaler\n",
    "\n",
    "# # Standardizing the features\n",
    "# scaler = StandardScaler()\n",
    "# dtm_scaled = scaler.fit_transform(dtm_df)"
   ]
  },
  {
   "cell_type": "code",
   "execution_count": null,
   "id": "41e5cd76",
   "metadata": {
    "scrolled": true
   },
   "outputs": [],
   "source": [
    "# from sklearn.decomposition import IncrementalPCA\n",
    "\n",
    "# def batches(arr, batch_size):\n",
    "#     # If batch_size is None, we default to 1/10th of the array length\n",
    "#     if batch_size is None:\n",
    "#         batch_size = arr.shape[0] // 10\n",
    "#     for i in range(0, arr.shape[0], batch_size):\n",
    "#         yield arr[i:i + batch_size]\n",
    "\n",
    "# # Initialize IncrementalPCA with default parameters\n",
    "# ipca = IncrementalPCA()\n",
    "\n",
    "# # Assuming you have a batches function defined properly\n",
    "# for batch in batches(dtm_scaled, batch_size):\n",
    "#     ipca.partial_fit(batch)"
   ]
  },
  {
   "cell_type": "code",
   "execution_count": null,
   "id": "7103ce71",
   "metadata": {},
   "outputs": [],
   "source": [
    "# #Perform PCA directly\n",
    "\n",
    "# pca = PCA().fit(dtm_df)  \n",
    "# cumulative_variance_ratio = pca.explained_variance_ratio_.cumsum()\n",
    "\n",
    "# # Find the # of components that account for a 95% cumulative variance\n",
    "# n_components = len(cumulative_variance_ratio[cumulative_variance_ratio <= 0.95]) + 1\n",
    "\n",
    "# n_components"
   ]
  },
  {
   "cell_type": "code",
   "execution_count": 23,
   "id": "29881b43",
   "metadata": {},
   "outputs": [],
   "source": [
    "# # Initialize PCA, choose the number of components \n",
    "# pca = PCA(n_components=#)\n",
    "\n",
    "# # Fit PCA on the DTM or standardized DTM\n",
    "# dtm_pca = pca.fit_transform(dtm_df) \n",
    "\n",
    "# dtm_pca"
   ]
  },
  {
   "cell_type": "code",
   "execution_count": null,
   "id": "963b20f3",
   "metadata": {},
   "outputs": [],
   "source": [
    "# # Randomized PCA\n",
    "# from sklearn.decomposition import PCA\n",
    "\n",
    "# pca = PCA(n_components=None, svd_solver='randomized')\n",
    "\n",
    "# dtm_pca = pca.fit(dtm_scaled)\n",
    "\n",
    "# dtm_pca"
   ]
  },
  {
   "cell_type": "code",
   "execution_count": 23,
   "id": "031dfe1c",
   "metadata": {},
   "outputs": [
    {
     "name": "stdout",
     "output_type": "stream",
     "text": [
      "[0.00049861 0.00047081 0.00042608 0.000423   0.0003945  0.00038087\n",
      " 0.00036276 0.00036027 0.00035563 0.00035427 0.00035267 0.00034893\n",
      " 0.00034245 0.00033906 0.00033685 0.00033353 0.0003318  0.00032834\n",
      " 0.00032772 0.00032293 0.00031826 0.00031708 0.0003143  0.00031185\n",
      " 0.00031049 0.00030838 0.00030693 0.00030289 0.00030081 0.00029733\n",
      " 0.00029724 0.00029551 0.00029462 0.00029337 0.00029102 0.00028739\n",
      " 0.0002866  0.00028579 0.00028439 0.00028321 0.00027974 0.00027852\n",
      " 0.00027789 0.00027755 0.00027713 0.0002751  0.000274   0.00027298\n",
      " 0.00027207 0.00026922 0.000269   0.00026814 0.00026662 0.00026607\n",
      " 0.00026561 0.00026491 0.00026409 0.0002631  0.00026228 0.00026095\n",
      " 0.00025987 0.00025947 0.00025861 0.00025782 0.00025689 0.00025617\n",
      " 0.00025462 0.00025426 0.0002527  0.00025243 0.00025188 0.00025081\n",
      " 0.00025046 0.00024892 0.00024871 0.00024753 0.00024715 0.00024581\n",
      " 0.00024559 0.00024486 0.00024392 0.0002427  0.00024238 0.00024099\n",
      " 0.00024083 0.0002402  0.00023883 0.00023861 0.00023786 0.00023714\n",
      " 0.00023622 0.00023551 0.00023424 0.00023369 0.00023346 0.00023199\n",
      " 0.00023114 0.00023054 0.00023008 0.00022905]\n"
     ]
    }
   ],
   "source": [
    "# print(pca.explained_variance_ratio_) "
   ]
  },
  {
   "cell_type": "code",
   "execution_count": null,
   "id": "6f365b93",
   "metadata": {},
   "outputs": [],
   "source": []
  }
 ],
 "metadata": {
  "kernelspec": {
   "display_name": "Python 3 (ipykernel)",
   "language": "python",
   "name": "python3"
  },
  "language_info": {
   "codemirror_mode": {
    "name": "ipython",
    "version": 3
   },
   "file_extension": ".py",
   "mimetype": "text/x-python",
   "name": "python",
   "nbconvert_exporter": "python",
   "pygments_lexer": "ipython3",
   "version": "3.11.5"
  }
 },
 "nbformat": 4,
 "nbformat_minor": 5
}
